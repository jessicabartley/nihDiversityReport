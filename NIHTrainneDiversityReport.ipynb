{
 "cells": [
  {
   "cell_type": "code",
   "execution_count": 1,
   "metadata": {},
   "outputs": [],
   "source": [
    "import pandas as pd\n",
    "import re\n",
    "import numpy as np\n",
    "\n",
    "from IPython.display import Markdown, display"
   ]
  },
  {
   "cell_type": "code",
   "execution_count": 2,
   "metadata": {},
   "outputs": [],
   "source": [
    "df = pd.read_csv('ABCDReproNimCourseStudentApplication.csv', encoding='437')\n",
    "cols = {'name': 'What is your name?', \n",
    "        'email': 'What is your email address?',\n",
    "       'consent': 'We (the organizers of the ABCD-ReproNim Course) will process your Personal Data provided in the following questions for the purposes of monitoring the diversity of our attendees. This is for the s...',\n",
    "       'age' :'What is your age?', \n",
    "       'residence country': 'What is your Country of Residence?',\n",
    "       'origin country': 'What is your Country of Origin?',\n",
    "       'underrep': 'Do you identify as being a member of one of these traditionally underrepresented groups in STEM fields?',\n",
    "       'ethnicity' : 'How would you describe yourself? Select all that apply to you:',\n",
    "       'gender' : 'What is your current gender identity?',\n",
    "       'profession' : 'What is your current profession?',\n",
    "       'university affiliation status' : 'Are you currently affiliated with a university or academic institution?',\n",
    "       'university' : 'What university or academic institution are you affiliated with?',\n",
    "       'university country' : 'In what country is your university or academic institution located?',\n",
    "       'university city' : 'In what city is your university or academic institution located?',\n",
    "       'abcd affiliation status' : 'Are you affiliated with the ABCD Study¿ at an ABCD Study¿ Site (https://abcdstudy.org/study-sites/)?',\n",
    "       'abcd site' : 'Which ABCD Study¿ Site are you affiliated with?',\n",
    "       'discipline' : 'What is your Academic Discipline / Field of Study / Program? (e.g., Cognitive Neuroscience, Biomedical Engineering, Clinical Psychology)',\n",
    "       'interests' : 'Please tell us about your interests in the ABCD-ReproNim Course. Select the top three that apply to you:',\n",
    "       'py3 knowledge' : 'What is your working knowledge of Python 3 (e.g., using numpy, scipy, or similar Python 3 software libraries)?',\n",
    "       'scripting knowledge' : 'What is your familiarity in scripting (e.g., writing code or using the command line) in at least one neuroimaging software package (e.g., AFNI, ANTS, FSL, FreeSurfer, SPM, etc.)?'\n",
    "       }"
   ]
  },
  {
   "cell_type": "code",
   "execution_count": 3,
   "metadata": {},
   "outputs": [],
   "source": [
    "def getIndexes(dfObj, value):\n",
    "    ''' Get index positions of value in dataframe'''\n",
    "    listOfPos = list()\n",
    "    # Get bool dataframe with True at positions where the given value exists\n",
    "    result = dfObj.isin([value])\n",
    "    # Get list of columns that contains the value\n",
    "    seriesObj = result.any()\n",
    "    columnNames = list(seriesObj[seriesObj == True].index)\n",
    "    # Iterate over list of columns and fetch the rows indexes where value exists\n",
    "    for col in columnNames:\n",
    "        rows = list(result[col][result[col] == True].index)\n",
    "        for row in rows:\n",
    "            listOfPos.append((row, col))\n",
    "    # Return a list of tuples indicating the positions of value in the dataframe\n",
    "    return listOfPos"
   ]
  },
  {
   "cell_type": "code",
   "execution_count": 4,
   "metadata": {},
   "outputs": [],
   "source": [
    "def printmd(string):\n",
    "    display(Markdown(string))"
   ]
  },
  {
   "cell_type": "code",
   "execution_count": 5,
   "metadata": {},
   "outputs": [],
   "source": [
    "## clean up data ##\n",
    "\n",
    "# remove admin entries\n",
    "admin_names = ['Jessica Bartley', 'Angela Laird', 'Angie Laird', 'test']\n",
    "for name in admin_names:\n",
    "    df.drop(df[df['Name'] == name].index, inplace = True)\n",
    "    df.drop(df[df['What is your name?'] == name].index, inplace = True)\n",
    "\n",
    "# keep rows where email (our unique identifier) is not NaN\n",
    "df = df[df['What is your email address?'].notna()]\n",
    "\n",
    "# remove empty cols\n",
    "df.drop('Name', axis=1, inplace=True)\n",
    "df.drop('Email', axis=1, inplace=True)\n",
    "\n",
    "# for duplicates that have have consent and not consent listed, keep only the consent row\n",
    "ids = df[cols['email']]\n",
    "df_dups = df[ids.isin(ids[ids.duplicated(keep=False)])]\n",
    "dup_emails = df_dups[cols['email']].tolist()\n",
    "\n",
    "for email in dup_emails: \n",
    "    if df[df[cols['email']]==email].shape[0] == 2:\n",
    "        a = list()\n",
    "        index_list = list()\n",
    "        drop_index_list = list()\n",
    "\n",
    "        listOfPositions = getIndexes(df, email)\n",
    "\n",
    "        for i in range(len(listOfPositions)):\n",
    "            index = listOfPositions[i][0]\n",
    "            index_list.append(index)\n",
    "            consent_string = df[cols['consent']].loc[[index]].to_string()\n",
    "            split_string = re.split(r'\\s{2,}', consent_string)\n",
    "            consent_string = split_string[1]\n",
    "            a.append(consent_string)\n",
    "            \n",
    "        # if a duplicate indicated they both consent and do not consent then keep the row with consent\n",
    "        if a[0] != a[1]:\n",
    "            if 'I do not consent' in a[0]:\n",
    "                drop_index = index_list[0]\n",
    "                #print('email: ', email, '\\nPositions: ', index_list, '\\nconsent entries: ', a)\n",
    "                df = df.drop(index=drop_index)\n",
    "            else:\n",
    "                drop_index = index_list[1]\n",
    "                #print('email: ', email, '\\nPositions: ', index_list, '\\nconsent entries: ', a)\n",
    "                df = df.drop(index=drop_index)\n",
    "        else:\n",
    "            pass\n",
    "        \n",
    "# drop the rest of the duplicates by just keeping the first entry\n",
    "df = df.drop_duplicates(subset=cols['email'], keep='first')\n",
    "\n",
    "# we changed the spelling of 'Colombian '\n",
    "#df.replace({'Columbian': 'Colombian'}, regex=True)"
   ]
  },
  {
   "cell_type": "code",
   "execution_count": 6,
   "metadata": {},
   "outputs": [
    {
     "data": {
      "text/plain": [
       "(748, 26)"
      ]
     },
     "execution_count": 6,
     "metadata": {},
     "output_type": "execute_result"
    }
   ],
   "source": [
    "df.shape"
   ]
  },
  {
   "cell_type": "code",
   "execution_count": 7,
   "metadata": {},
   "outputs": [],
   "source": [
    "percent_consent = df[cols['consent']].str.contains('I consent').sum() / len(df[cols['consent']])\n",
    "df_consent = df[df[cols['consent']].str.contains('I consent')]\n",
    "df_noconsent = df[df[cols['consent']].str.contains('I do not consent')]\n",
    "\n",
    "# make sure number of consents and no consents match shape of origional df\n",
    "if df_consent.shape[0] + df_noconsent.shape[0] == df.shape[0]:\n",
    "    pass\n",
    "else:\n",
    "    print('there are some empty entries')\n"
   ]
  },
  {
   "cell_type": "code",
   "execution_count": 8,
   "metadata": {},
   "outputs": [
    {
     "data": {
      "text/plain": [
       "(31, 26)"
      ]
     },
     "execution_count": 8,
     "metadata": {},
     "output_type": "execute_result"
    }
   ],
   "source": [
    "df_noconsent.shape"
   ]
  },
  {
   "cell_type": "code",
   "execution_count": 9,
   "metadata": {},
   "outputs": [],
   "source": [
    "## get numbers! ##"
   ]
  },
  {
   "cell_type": "code",
   "execution_count": 10,
   "metadata": {},
   "outputs": [],
   "source": [
    "def get_mulitple_entries(list_1, list_2):\n",
    "    \"\"\"get elements in `list_2` that are NOT in `list_1`\"\"\"\n",
    "    main_list = np.setdiff1d(list_2,list_1)\n",
    "    for i in range(len(main_list)):\n",
    "        if main_list[i] == 1:\n",
    "            print('Get muplies function is not working')\n",
    "        else:\n",
    "            pass\n",
    "    return main_list\n",
    "\n",
    "def remove_df_nulls(df, col):\n",
    "    df1 = df[df[col].notnull()]\n",
    "    nulls = df[df[col].isnull()]\n",
    "    return (df1, nulls)\n",
    "\n",
    "def get_gender(df):\n",
    "    df_gender, df_nulls = remove_df_nulls(df, cols['gender'])\n",
    "    df_women = df_gender[df_gender[cols['gender']].str.contains('Woman / Trans Woman')]\n",
    "    df_men = df_gender[df_gender[cols['gender']].str.contains('Man / Trans Man')]\n",
    "    df_nonbinary = df_gender[df_gender[cols['gender']].str.contains('Non-Binary')]\n",
    "    df_prefernoanswer = df_gender[df_gender[cols['gender']].str.contains('I prefer not to answer')]\n",
    "    return (df_women, df_men, df_nonbinary, df_prefernoanswer, df_nulls)\n",
    "\n",
    "def nonbin_breakdown(df):\n",
    "    df_nonbin = df[cols['gender']]\n",
    "    nonbin_men = df_nonbin[df_nonbin.str.contains('Man / Trans Man')]\n",
    "    nonbin_women = df_nonbin[df_nonbin.str.contains('Woman / Trans Woman')]\n",
    "    nonbin_only = df_nonbin[df_nonbin.eq('Non-Binary / Gender Queer / Gender Non-Conforming;')]\n",
    "    return (nonbin_men, nonbin_women, nonbin_only)\n",
    "              \n",
    "def check_sums(number_list, expected_val, numbers_type):\n",
    "    if sum(number_list) == expected_val:\n",
    "        pass\n",
    "    else:\n",
    "        printmd(\"*warning*\")\n",
    "        print(numbers_type, \"sums don't match!\")\n",
    "\n",
    "def print_gender_breakdown(df):\n",
    "    women, men, nonbinary, prefernoanswer, blank = get_gender(df)\n",
    "    print('--  women:', women.shape[0], ' men:', men.shape[0], ' nonbinary:', nonbinary.shape[0], \n",
    "          ' prefer not to answer:', prefernoanswer.shape[0], ' entry left blank:', blank.shape[0])\n",
    "    nonbinary_men, nonbinary_women, nonbinary_only = nonbin_breakdown(nonbinary)\n",
    "    print('---- nonbinary women:', nonbinary_women.shape[0], ' nonbinary men:', nonbinary_men.shape[0],  \n",
    "          ' marked only as nonbinary:', nonbinary_only.shape[0])\n",
    "    # for NIH reporting\n",
    "    unknowns = [nonbinary_only.shape[0], prefernoanswer.shape[0], blank.shape[0]]\n",
    "    totals_list = [men.shape[0], women.shape[0], nonbinary_only.shape[0], prefernoanswer.shape[0], blank.shape[0]]\n",
    "    print('------> \"Females\":', women.shape[0], ' \"Males\":', men.shape[0], \n",
    "          ' \"Sex/Gender Unknown or Nor Reported\"', sum(unknowns), \n",
    "          ' \"Total\":', sum(totals_list), '\\n')\n",
    "    numbers_list = [men.shape[0], women.shape[0], nonbinary_only.shape[0], prefernoanswer.shape[0], blank.shape[0]]\n",
    "    check_sums(numbers_list, sum(totals_list), 'gender')\n",
    "    \n",
    "def does_not_contain(df, col, string):\n",
    "    new_df = df[~df[col].str.contains(string)]\n",
    "    return new_df"
   ]
  },
  {
   "cell_type": "code",
   "execution_count": 11,
   "metadata": {
    "scrolled": true
   },
   "outputs": [
    {
     "data": {
      "text/markdown": [
       "**Full Ethnicity Breakdown**"
      ],
      "text/plain": [
       "<IPython.core.display.Markdown object>"
      ]
     },
     "metadata": {},
     "output_type": "display_data"
    },
    {
     "name": "stdout",
     "output_type": "stream",
     "text": [
      "(72,)\n",
      "Identify as Hispanic:  72\n",
      "--  women: 43  men: 28  nonbinary: 0  prefer not to answer: 0  entry left blank: 1\n",
      "---- nonbinary women: 0  nonbinary men: 0  marked only as nonbinary: 0\n",
      "------> \"Females\": 43  \"Males\": 28  \"Sex/Gender Unknown or Nor Reported\" 1  \"Total\": 72 \n",
      "\n",
      "Does not identify as Hispanic:  641 \n",
      "\n",
      "--  women: 407  men: 216  nonbinary: 13  prefer not to answer: 12  entry left blank: 0\n",
      "---- nonbinary women: 5  nonbinary men: 2  marked only as nonbinary: 6\n",
      "------> \"Females\": 407  \"Males\": 216  \"Sex/Gender Unknown or Nor Reported\" 18  \"Total\": 641 \n",
      "\n",
      "(6,)\n",
      "Identify as American Indian:  6\n",
      "--  women: 3  men: 3  nonbinary: 1  prefer not to answer: 0  entry left blank: 0\n",
      "---- nonbinary women: 0  nonbinary men: 1  marked only as nonbinary: 0\n",
      "------> \"Females\": 3  \"Males\": 3  \"Sex/Gender Unknown or Nor Reported\" 0  \"Total\": 6 \n",
      "\n",
      "(237,)\n",
      "Identify as Asian:  237\n",
      "--  women: 141  men: 93  nonbinary: 5  prefer not to answer: 1  entry left blank: 0\n",
      "---- nonbinary women: 2  nonbinary men: 1  marked only as nonbinary: 2\n",
      "------> \"Females\": 141  \"Males\": 93  \"Sex/Gender Unknown or Nor Reported\" 3  \"Total\": 237 \n",
      "\n",
      "(1,)\n",
      "Identify as Hawaiian:  1\n",
      "--  women: 0  men: 1  nonbinary: 0  prefer not to answer: 0  entry left blank: 0\n",
      "---- nonbinary women: 0  nonbinary men: 0  marked only as nonbinary: 0\n",
      "------> \"Females\": 0  \"Males\": 1  \"Sex/Gender Unknown or Nor Reported\" 0  \"Total\": 1 \n",
      "\n",
      "(28,)\n",
      "Identify as Black:  28\n",
      "--  women: 21  men: 7  nonbinary: 2  prefer not to answer: 0  entry left blank: 0\n",
      "---- nonbinary women: 1  nonbinary men: 1  marked only as nonbinary: 0\n",
      "------> \"Females\": 21  \"Males\": 7  \"Sex/Gender Unknown or Nor Reported\" 0  \"Total\": 28 \n",
      "\n",
      "(362,)\n",
      "Identify as White:  362\n",
      "--  women: 250  men: 107  nonbinary: 5  prefer not to answer: 3  entry left blank: 0\n",
      "---- nonbinary women: 2  nonbinary men: 1  marked only as nonbinary: 2\n",
      "------> \"Females\": 250  \"Males\": 107  \"Sex/Gender Unknown or Nor Reported\" 5  \"Total\": 362 \n",
      "\n",
      "(44,)\n",
      "Identify as Middle Eastern:  44\n",
      "--  women: 24  men: 18  nonbinary: 1  prefer not to answer: 1  entry left blank: 0\n",
      "---- nonbinary women: 0  nonbinary men: 0  marked only as nonbinary: 1\n",
      "------> \"Females\": 24  \"Males\": 18  \"Sex/Gender Unknown or Nor Reported\" 2  \"Total\": 44 \n",
      "\n",
      "(16,)\n",
      "Identify as I prefer not to answer:  16\n",
      "--  women: 5  men: 3  nonbinary: 1  prefer not to answer: 7  entry left blank: 0\n",
      "---- nonbinary women: 0  nonbinary men: 0  marked only as nonbinary: 1\n",
      "------> \"Females\": 5  \"Males\": 3  \"Sex/Gender Unknown or Nor Reported\" 8  \"Total\": 16 \n",
      "\n",
      "(1,)\n",
      "Identify as Other:  1\n",
      "--  women: 0  men: 1  nonbinary: 0  prefer not to answer: 0  entry left blank: 0\n",
      "---- nonbinary women: 0  nonbinary men: 0  marked only as nonbinary: 0\n",
      "------> \"Females\": 0  \"Males\": 1  \"Sex/Gender Unknown or Nor Reported\" 0  \"Total\": 1 \n",
      "\n",
      "Number of nulls among consents:  4\n",
      "--  women: 0  men: 2  nonbinary: 0  prefer not to answer: 0  entry left blank: 2\n",
      "---- nonbinary women: 0  nonbinary men: 0  marked only as nonbinary: 0\n",
      "------> \"Females\": 0  \"Males\": 2  \"Sex/Gender Unknown or Nor Reported\" 2  \"Total\": 4 \n",
      "\n",
      "Number of no consents:  31 \n",
      "\n",
      "--  women: 0  men: 0  nonbinary: 0  prefer not to answer: 0  entry left blank: 31\n",
      "---- nonbinary women: 0  nonbinary men: 0  marked only as nonbinary: 0\n",
      "------> \"Females\": 0  \"Males\": 0  \"Sex/Gender Unknown or Nor Reported\" 31  \"Total\": 31 \n",
      "\n",
      "Totals:  748\n"
     ]
    }
   ],
   "source": [
    "# Full breakdown\n",
    "printmd('**Full Ethnicity Breakdown**')\n",
    "df_ethnicity = df_consent[df_consent[cols['ethnicity']].notnull()]\n",
    "nulls = df_consent[df_consent[cols['ethnicity']].isnull()]\n",
    "\n",
    "ethnicity_lables = ['Hispanic', 'American Indian', 'Asian', 'Hawaiian', 'Black', 'White', 'Middle Eastern', 'I prefer not to answer', 'Other']\n",
    "\n",
    "# full breakdown\n",
    "a_list = list()\n",
    "for label in ethnicity_lables:\n",
    "    df_label = df_ethnicity[df_ethnicity[cols['ethnicity']].str.contains(label)]\n",
    "    print(df_label[cols['ethnicity']].shape)\n",
    "    df_label.to_csv('{0}.csv'.format(label))\n",
    "    print('Identify as {0}: '.format(label), df_label[cols['ethnicity']].shape[0])\n",
    "    print_gender_breakdown(df_label)\n",
    "    a_list.append(df_label[cols['ethnicity']].shape[0])\n",
    "    if label == 'Hispanic':\n",
    "        df_nothispanic = does_not_contain(df_ethnicity, cols['ethnicity'], 'Hispanic')\n",
    "        print('Does not identify as {0}: '.format(label), df_nothispanic[cols['ethnicity']].shape[0], '\\n')\n",
    "        print_gender_breakdown(df_nothispanic)\n",
    "        hisp_nothisp_list = [df_nothispanic.shape[0], df_label.shape[0]]\n",
    "        check_sums(hisp_nothisp_list, df_ethnicity.shape[0], 'hispanic/non-hispanic')\n",
    "\n",
    "print('Number of nulls among consents: ', nulls.shape[0])\n",
    "print_gender_breakdown(nulls)\n",
    "print('Number of no consents: ', df_noconsent.shape[0], '\\n')\n",
    "print_gender_breakdown(df_noconsent)\n",
    "\n",
    "print('Totals: ', df_ethnicity.shape[0] + nulls.shape[0] + df_noconsent.shape[0])"
   ]
  },
  {
   "cell_type": "code",
   "execution_count": 12,
   "metadata": {},
   "outputs": [
    {
     "data": {
      "text/markdown": [
       "**Part A: Number of Trainees Appointed by Ethnicity and Race**"
      ],
      "text/plain": [
       "<IPython.core.display.Markdown object>"
      ]
     },
     "metadata": {},
     "output_type": "display_data"
    },
    {
     "name": "stdout",
     "output_type": "stream",
     "text": [
      "13\n",
      "_____\n",
      "['American Indian or Alaska Native╤For example, Navajo Nation, Blackfeet Tribe, Mayan, Aztec, Native Village of Barrow Inupiat Traditional Government, Nome Eskimo Community', 'Hispanic, Latino or Spanish Origin╤For example, Mexican or Mexican American, Puerto Rican, Cuban, Salvadoran, Dominican, Colombian']\n",
      "+++++\n",
      "length 1\n",
      "['American Indian or Alaska Native╤For example, Navajo Nation, Blackfeet Tribe, Mayan, Aztec, Native Village of Barrow Inupiat Traditional Government, Nome Eskimo Community']\n",
      "_____\n",
      "['Asian╤For example, Chinese, Filipino, Asian Indian, Vietnamese, Korean, Japanese', 'Hispanic, Latino or Spanish Origin╤For example, Mexican or Mexican American, Puerto Rican, Cuban, Salvadoran, Dominican, Colombian', 'Native Hawaiian or Other Pacific Islander╤For example, Native Hawaiian, Samoan, Chamorro, Tongan, Fijian, Marshallese']\n",
      "+++++\n",
      "length 2\n",
      "['Asian╤For example, Chinese, Filipino, Asian Indian, Vietnamese, Korean, Japanese', 'Native Hawaiian or Other Pacific Islander╤For example, Native Hawaiian, Samoan, Chamorro, Tongan, Fijian, Marshallese']\n",
      "_____\n",
      "['Black or African American╤For example, Jamaican, Haitian, Nigerian, Ethiopian, Somalian', 'Hispanic, Latino or Spanish Origin╤For example, Mexican or Mexican American, Puerto Rican, Cuban, Salvadoran, Dominican, Colombian']\n",
      "+++++\n",
      "length 1\n",
      "['Black or African American╤For example, Jamaican, Haitian, Nigerian, Ethiopian, Somalian']\n",
      "_____\n",
      "['Hispanic, Latino or Spanish Origin╤For example, Mexican or Mexican American, Puerto Rican, Cuban, Salvadoran, Dominican, Colombian', 'White╤For example, German, Irish, English, Italian, Polish, French']\n",
      "+++++\n",
      "length 1\n",
      "['White╤For example, German, Irish, English, Italian, Polish, French']\n",
      "_____\n",
      "['Hispanic, Latino or Spanish Origin╤For example, Mexican or Mexican American, Puerto Rican, Cuban, Salvadoran, Dominican, Columbian', 'White╤For example, German, Irish, English, Italian, Polish, French']\n",
      "+++++\n",
      "length 1\n",
      "['White╤For example, German, Irish, English, Italian, Polish, French']\n",
      "_____\n",
      "['White╤For example, German, Irish, English, Italian, Polish, French', 'Hispanic, Latino or Spanish Origin╤For example, Mexican or Mexican American, Puerto Rican, Cuban, Salvadoran, Dominican, Colombian']\n",
      "+++++\n",
      "length 1\n",
      "['White╤For example, German, Irish, English, Italian, Polish, French']\n",
      "6\n",
      "[['American Indian or Alaska Native╤For example, Navajo Nation, Blackfeet Tribe, Mayan, Aztec, Native Village of Barrow Inupiat Traditional Government, Nome Eskimo Community'], ['Asian╤For example, Chinese, Filipino, Asian Indian, Vietnamese, Korean, Japanese', 'Native Hawaiian or Other Pacific Islander╤For example, Native Hawaiian, Samoan, Chamorro, Tongan, Fijian, Marshallese'], ['Black or African American╤For example, Jamaican, Haitian, Nigerian, Ethiopian, Somalian'], ['White╤For example, German, Irish, English, Italian, Polish, French'], ['White╤For example, German, Irish, English, Italian, Polish, French'], ['White╤For example, German, Irish, English, Italian, Polish, French']]\n",
      "number of types of multiethnicities entries:  6\n"
     ]
    }
   ],
   "source": [
    "# Part A\n",
    "printmd('**Part A: Number of Trainees Appointed by Ethnicity and Race**')\n",
    "\n",
    "df_ethnicity = df_consent[df_consent[cols['ethnicity']].notnull()]\n",
    "nulls = df_consent[df_consent[cols['ethnicity']].isnull()]\n",
    "n_nulls = nulls.shape[0]\n",
    "#df_ethnicity.to_csv('test.csv')\n",
    "\n",
    "df_hispanic = df_ethnicity[df_ethnicity[cols['ethnicity']].str.contains('Hispanic')]\n",
    "df_nothispanic = does_not_contain(df_ethnicity, cols['ethnicity'], 'Hispanic')\n",
    "\n",
    "lables = ['Hispanic', 'American Indian', 'Asian', 'Hawaiian', 'Black', 'White', 'Middle Eastern', 'I prefer not to answer', 'Other']\n",
    "\n",
    "no_ethnicity_list = ['I prefer not to answer;']\n",
    "single_ethnicity_list = ['American Indian or Alaska Native╤For example, Navajo Nation, Blackfeet Tribe, Mayan, Aztec, Native Village of Barrow Inupiat Traditional Government, Nome Eskimo Community;', \n",
    "                         'Asian╤For example, Chinese, Filipino, Asian Indian, Vietnamese, Korean, Japanese;', \n",
    "                         'Native Hawaiian or Other Pacific Islander╤For example, Native Hawaiian, Samoan, Chamorro, Tongan, Fijian, Marshallese;', \n",
    "                         'Black or African American╤For example, Jamaican, Haitian, Nigerian, Ethiopian, Somalian;', \n",
    "                         'White╤For example, German, Irish, English, Italian, Polish, French;', \n",
    "                         'Hispanic, Latino or Spanish Origin╤For example, Mexican or Mexican American, Puerto Rican, Cuban, Salvadoran, Dominican, Columbian;', \n",
    "                         'Hispanic, Latino or Spanish Origin╤For example, Mexican or Mexican American, Puerto Rican, Cuban, Salvadoran, Dominican, Colombian;',\n",
    "                         'Middle Eastern or North African╤For example, Lebanese, Iranian, Egyptian, Syrian, Moroccan, Algerian;', \n",
    "                         'Other', 'I prefer not to answer;']\n",
    "all_ethnicities_entered = df_ethnicity[cols['ethnicity']].tolist()\n",
    "\n",
    "# list of all \"more than one\" race entries\n",
    "multiple_ethnicities_list = get_mulitple_entries(single_ethnicity_list, all_ethnicities_entered)\n",
    "multiple_ethnicities_list = multiple_ethnicities_list.tolist()\n",
    "\n",
    "\n",
    "# here's the deal.... NIH does not consider \"hispanic\" as a race.\n",
    "# we collected combined information on race/ethnicity\n",
    "# ...so some of our entries are what the nih considers race + \"hispanic\"\n",
    "# so what we have to do is take the multiple entries that have \"hispanic\" in them\n",
    "# and remove the \"hispanic\" part and then the (what were) \"multiple\" entries turn into \"single\" entries \n",
    "# that then get summed along with the true single entires\n",
    "# so lets make that happen...\n",
    "print(len(multiple_ethnicities_list))\n",
    "#print(multiple_ethnicities_list)\n",
    "multiple_ethnicities_list_new = list()\n",
    "for i in range(len(multiple_ethnicities_list)):\n",
    "#    print(i)\n",
    "    aslist = multiple_ethnicities_list[i].split(';')\n",
    "    aslist.pop()\n",
    "    asstring = ''.join(aslist)\n",
    "    if 'Hispanic' in asstring:\n",
    "        print('_____')\n",
    "        print(aslist)\n",
    "        print('+++++')\n",
    "        newlist = [x for x in aslist if not 'Hispanic' in x]\n",
    "        print('length', len(newlist))\n",
    "        print(newlist)        \n",
    "        multiple_ethnicities_list_new.append(newlist)\n",
    "#        print(df_ethnicity[cols['ethnicity']])\n",
    "    else:\n",
    "        pass\n",
    "\n",
    "print(len(multiple_ethnicities_list_new))\n",
    "print(multiple_ethnicities_list_new)\n",
    "print('number of types of multiethnicities entries: ', len(multiple_ethnicities_list_new))\n",
    "\n",
    "#df_new = df_ethnicity[df_ethnicity[cols['ethnicity']].str.contains('Hispanic')].loc[[9, 11]]\n",
    "#new = df_ethnicity[df_ethnicity[cols['ethnicity']].str.contains('Hispanic')].loc[[9, 11]][cols['ethnicity']].to_string\n",
    "#df_new"
   ]
  },
  {
   "cell_type": "code",
   "execution_count": 13,
   "metadata": {},
   "outputs": [
    {
     "name": "stdout",
     "output_type": "stream",
     "text": [
      "n entries containing ONLY \"American Indian or Alaska Native╤For example, Navajo Nation, Blackfeet Tribe, Mayan, Aztec, Native Village of Barrow Inupiat Traditional Government, Nome Eskimo Community;\" 2\n",
      "--  women: 1  men: 1  nonbinary: 0  prefer not to answer: 0  entry left blank: 0\n",
      "---- nonbinary women: 0  nonbinary men: 0  marked only as nonbinary: 0\n",
      "------> \"Females\": 1  \"Males\": 1  \"Sex/Gender Unknown or Nor Reported\" 0  \"Total\": 2 \n",
      "\n",
      "n entries containing ONLY \"Asian╤For example, Chinese, Filipino, Asian Indian, Vietnamese, Korean, Japanese;\" 225\n",
      "--  women: 133  men: 89  nonbinary: 5  prefer not to answer: 1  entry left blank: 0\n",
      "---- nonbinary women: 2  nonbinary men: 1  marked only as nonbinary: 2\n",
      "------> \"Females\": 133  \"Males\": 89  \"Sex/Gender Unknown or Nor Reported\" 3  \"Total\": 225 \n",
      "\n",
      "n entries containing ONLY \"Native Hawaiian or Other Pacific Islander╤For example, Native Hawaiian, Samoan, Chamorro, Tongan, Fijian, Marshallese;\" 0\n",
      "--  women: 0  men: 0  nonbinary: 0  prefer not to answer: 0  entry left blank: 0\n",
      "---- nonbinary women: 0  nonbinary men: 0  marked only as nonbinary: 0\n",
      "------> \"Females\": 0  \"Males\": 0  \"Sex/Gender Unknown or Nor Reported\" 0  \"Total\": 0 \n",
      "\n",
      "n entries containing ONLY \"Black or African American╤For example, Jamaican, Haitian, Nigerian, Ethiopian, Somalian;\" 13\n",
      "--  women: 11  men: 2  nonbinary: 1  prefer not to answer: 0  entry left blank: 0\n",
      "---- nonbinary women: 1  nonbinary men: 0  marked only as nonbinary: 0\n",
      "------> \"Females\": 11  \"Males\": 2  \"Sex/Gender Unknown or Nor Reported\" 0  \"Total\": 13 \n",
      "\n",
      "n entries containing ONLY \"White╤For example, German, Irish, English, Italian, Polish, French;\" 324\n",
      "--  women: 220  men: 99  nonbinary: 4  prefer not to answer: 3  entry left blank: 0\n",
      "---- nonbinary women: 2  nonbinary men: 0  marked only as nonbinary: 2\n",
      "------> \"Females\": 220  \"Males\": 99  \"Sex/Gender Unknown or Nor Reported\" 5  \"Total\": 324 \n",
      "\n",
      "n entries containing ONLY \"Hispanic, Latino or Spanish Origin╤For example, Mexican or Mexican American, Puerto Rican, Cuban, Salvadoran, Dominican, Columbian;\" 16\n"
     ]
    },
    {
     "data": {
      "text/markdown": [
       "NOTE: For part A we count hispanic listed alone as un unknown or not reported race. Why? Because NIH does not list hispanic as a race."
      ],
      "text/plain": [
       "<IPython.core.display.Markdown object>"
      ]
     },
     "metadata": {},
     "output_type": "display_data"
    },
    {
     "data": {
      "text/markdown": [
       "ALSO NOTE: There are two hispanic entries here because we changed the spelling of Colombian midway."
      ],
      "text/plain": [
       "<IPython.core.display.Markdown object>"
      ]
     },
     "metadata": {},
     "output_type": "display_data"
    },
    {
     "name": "stdout",
     "output_type": "stream",
     "text": [
      "--  women: 10  men: 6  nonbinary: 0  prefer not to answer: 0  entry left blank: 0\n",
      "---- nonbinary women: 0  nonbinary men: 0  marked only as nonbinary: 0\n",
      "------> \"Females\": 10  \"Males\": 6  \"Sex/Gender Unknown or Nor Reported\" 0  \"Total\": 16 \n",
      "\n",
      "n entries containing ONLY \"Hispanic, Latino or Spanish Origin╤For example, Mexican or Mexican American, Puerto Rican, Cuban, Salvadoran, Dominican, Colombian;\" 37\n"
     ]
    },
    {
     "data": {
      "text/markdown": [
       "NOTE: For part A we count hispanic listed alone as un unknown or not reported race. Why? Because NIH does not list hispanic as a race."
      ],
      "text/plain": [
       "<IPython.core.display.Markdown object>"
      ]
     },
     "metadata": {},
     "output_type": "display_data"
    },
    {
     "data": {
      "text/markdown": [
       "ALSO NOTE: There are two hispanic entries here because we changed the spelling of Colombian midway."
      ],
      "text/plain": [
       "<IPython.core.display.Markdown object>"
      ]
     },
     "metadata": {},
     "output_type": "display_data"
    },
    {
     "name": "stdout",
     "output_type": "stream",
     "text": [
      "--  women: 20  men: 16  nonbinary: 0  prefer not to answer: 0  entry left blank: 1\n",
      "---- nonbinary women: 0  nonbinary men: 0  marked only as nonbinary: 0\n",
      "------> \"Females\": 20  \"Males\": 16  \"Sex/Gender Unknown or Nor Reported\" 1  \"Total\": 37 \n",
      "\n",
      "n entries containing ONLY \"Middle Eastern or North African╤For example, Lebanese, Iranian, Egyptian, Syrian, Moroccan, Algerian;\" 34\n",
      "--  women: 16  men: 16  nonbinary: 1  prefer not to answer: 1  entry left blank: 0\n",
      "---- nonbinary women: 0  nonbinary men: 0  marked only as nonbinary: 1\n",
      "------> \"Females\": 16  \"Males\": 16  \"Sex/Gender Unknown or Nor Reported\" 2  \"Total\": 34 \n",
      "\n",
      "n entries containing ONLY \"Other\" 0\n",
      "--  women: 0  men: 0  nonbinary: 0  prefer not to answer: 0  entry left blank: 0\n",
      "---- nonbinary women: 0  nonbinary men: 0  marked only as nonbinary: 0\n",
      "------> \"Females\": 0  \"Males\": 0  \"Sex/Gender Unknown or Nor Reported\" 0  \"Total\": 0 \n",
      "\n",
      "n entries containing ONLY \"I prefer not to answer;\" 28\n",
      "______________________\n",
      "--  women: 5  men: 3  nonbinary: 1  prefer not to answer: 14  entry left blank: 0\n",
      "---- nonbinary women: 0  nonbinary men: 0  marked only as nonbinary: 1\n",
      "------> \"Females\": 5  \"Males\": 3  \"Sex/Gender Unknown or Nor Reported\" 15  \"Total\": 23 \n",
      "\n"
     ]
    }
   ],
   "source": [
    "#get df of single ethnicity entries\n",
    "for j, single_entry in enumerate(single_ethnicity_list):\n",
    "#    print(single_entry)\n",
    "    ethnicity_index_list = list()\n",
    "    positionTuple = getIndexes(df_ethnicity, single_entry)\n",
    "    first_tuple_list = positionTuple\n",
    "    for iteration, i in enumerate(range(len(positionTuple))):\n",
    "        index = positionTuple[i][0]\n",
    "        #print(index)\n",
    "        ethnicity_index_list.append(index)\n",
    "        long_string = df_ethnicity[cols['ethnicity']].loc[[index]].to_string()\n",
    "        split_string = re.split(r'\\s{2,}', long_string)\n",
    "        string = split_string[1]\n",
    "    df_single_entry = df_ethnicity.loc[ethnicity_index_list]\n",
    "    print('n entries containing ONLY \"{0}\"'.format(single_entry), len(positionTuple))\n",
    "    if 'Hispanic' in single_entry:\n",
    "        printmd('NOTE: For part A we count hispanic listed alone as un unknown or not reported race. Why? Because NIH does not list hispanic as a race.')\n",
    "        printmd('ALSO NOTE: There are two hispanic entries here because we changed the spelling of Colombian midway.')\n",
    "    elif 'prefer not to answer' in single_entry:\n",
    "        print(\"______________________\")\n",
    "        df_single_entry = df_single_entry[df_single_entry[cols['ethnicity']].str.contains('I prefer not to answer')]\n",
    "    else:\n",
    "        pass\n",
    "    df_single_entry.to_csv('test_{0}.csv'.format(j))\n",
    "    print_gender_breakdown(df_single_entry)"
   ]
  },
  {
   "cell_type": "code",
   "execution_count": 14,
   "metadata": {},
   "outputs": [
    {
     "name": "stdout",
     "output_type": "stream",
     "text": [
      "--- 0 ---\n",
      "n entries containing \"American Indian or Alaska Native╤For example, Navajo Nation, Blackfeet Tribe, Mayan, Aztec, Native Village of Barrow Inupiat Traditional Government, Nome Eskimo Community;Asian╤For example, Chinese, Filipino, Asian Indian, Vietnamese, Korean, Japanese;\" 1\n",
      "--  women: 0  men: 1  nonbinary: 0  prefer not to answer: 0  entry left blank: 0\n",
      "---- nonbinary women: 0  nonbinary men: 0  marked only as nonbinary: 0\n",
      "------> \"Females\": 0  \"Males\": 1  \"Sex/Gender Unknown or Nor Reported\" 0  \"Total\": 1 \n",
      "\n",
      "--- 1 ---\n",
      "n entries containing \"American Indian or Alaska Native╤For example, Navajo Nation, Blackfeet Tribe, Mayan, Aztec, Native Village of Barrow Inupiat Traditional Government, Nome Eskimo Community;Hispanic, Latino or Spanish Origin╤For example, Mexican or Mexican American, Puerto Rican, Cuban, Salvadoran, Dominican, Colombian;\" 1\n",
      "--  women: 1  men: 0  nonbinary: 0  prefer not to answer: 0  entry left blank: 0\n",
      "---- nonbinary women: 0  nonbinary men: 0  marked only as nonbinary: 0\n",
      "------> \"Females\": 1  \"Males\": 0  \"Sex/Gender Unknown or Nor Reported\" 0  \"Total\": 1 \n",
      "\n",
      "--- 2 ---\n",
      "n entries containing \"American Indian or Alaska Native╤For example, Navajo Nation, Blackfeet Tribe, Mayan, Aztec, Native Village of Barrow Inupiat Traditional Government, Nome Eskimo Community;White╤For example, German, Irish, English, Italian, Polish, French;\" 2\n",
      "--  women: 1  men: 1  nonbinary: 1  prefer not to answer: 0  entry left blank: 0\n",
      "---- nonbinary women: 0  nonbinary men: 1  marked only as nonbinary: 0\n",
      "------> \"Females\": 1  \"Males\": 1  \"Sex/Gender Unknown or Nor Reported\" 0  \"Total\": 2 \n",
      "\n",
      "--- 3 ---\n",
      "n entries containing \"Asian╤For example, Chinese, Filipino, Asian Indian, Vietnamese, Korean, Japanese;Black or African American╤For example, Jamaican, Haitian, Nigerian, Ethiopian, Somalian;\" 1\n",
      "--  women: 0  men: 1  nonbinary: 0  prefer not to answer: 0  entry left blank: 0\n",
      "---- nonbinary women: 0  nonbinary men: 0  marked only as nonbinary: 0\n",
      "------> \"Females\": 0  \"Males\": 1  \"Sex/Gender Unknown or Nor Reported\" 0  \"Total\": 1 \n",
      "\n",
      "--- 4 ---\n",
      "n entries containing \"Asian╤For example, Chinese, Filipino, Asian Indian, Vietnamese, Korean, Japanese;Hispanic, Latino or Spanish Origin╤For example, Mexican or Mexican American, Puerto Rican, Cuban, Salvadoran, Dominican, Colombian;Native Hawaiian or Other Pacific Islander╤For example, Native Hawaiian, Samoan, Chamorro, Tongan, Fijian, Marshallese;\" 1\n",
      "--  women: 0  men: 1  nonbinary: 0  prefer not to answer: 0  entry left blank: 0\n",
      "---- nonbinary women: 0  nonbinary men: 0  marked only as nonbinary: 0\n",
      "------> \"Females\": 0  \"Males\": 1  \"Sex/Gender Unknown or Nor Reported\" 0  \"Total\": 1 \n",
      "\n",
      "--- 5 ---\n",
      "n entries containing \"Asian╤For example, Chinese, Filipino, Asian Indian, Vietnamese, Korean, Japanese;White╤For example, German, Irish, English, Italian, Polish, French;\" 9\n",
      "--  women: 8  men: 1  nonbinary: 0  prefer not to answer: 0  entry left blank: 0\n",
      "---- nonbinary women: 0  nonbinary men: 0  marked only as nonbinary: 0\n",
      "------> \"Females\": 8  \"Males\": 1  \"Sex/Gender Unknown or Nor Reported\" 0  \"Total\": 9 \n",
      "\n",
      "--- 6 ---\n",
      "n entries containing \"Black or African American╤For example, Jamaican, Haitian, Nigerian, Ethiopian, Somalian;Hispanic, Latino or Spanish Origin╤For example, Mexican or Mexican American, Puerto Rican, Cuban, Salvadoran, Dominican, Colombian;\" 2\n",
      "--  women: 1  men: 1  nonbinary: 0  prefer not to answer: 0  entry left blank: 0\n",
      "---- nonbinary women: 0  nonbinary men: 0  marked only as nonbinary: 0\n",
      "------> \"Females\": 1  \"Males\": 1  \"Sex/Gender Unknown or Nor Reported\" 0  \"Total\": 2 \n",
      "\n",
      "--- 7 ---\n",
      "n entries containing \"Black or African American╤For example, Jamaican, Haitian, Nigerian, Ethiopian, Somalian;Middle Eastern or North African╤For example, Lebanese, Iranian, Egyptian, Syrian, Moroccan, Algerian;\" 2\n",
      "--  women: 2  men: 0  nonbinary: 0  prefer not to answer: 0  entry left blank: 0\n",
      "---- nonbinary women: 0  nonbinary men: 0  marked only as nonbinary: 0\n",
      "------> \"Females\": 2  \"Males\": 0  \"Sex/Gender Unknown or Nor Reported\" 0  \"Total\": 2 \n",
      "\n",
      "--- 8 ---\n",
      "n entries containing \"Black or African American╤For example, Jamaican, Haitian, Nigerian, Ethiopian, Somalian;White╤For example, German, Irish, English, Italian, Polish, French;\" 4\n",
      "--  women: 4  men: 0  nonbinary: 0  prefer not to answer: 0  entry left blank: 0\n",
      "---- nonbinary women: 0  nonbinary men: 0  marked only as nonbinary: 0\n",
      "------> \"Females\": 4  \"Males\": 0  \"Sex/Gender Unknown or Nor Reported\" 0  \"Total\": 4 \n",
      "\n",
      "--- 9 ---\n",
      "n entries containing \"Hispanic, Latino or Spanish Origin╤For example, Mexican or Mexican American, Puerto Rican, Cuban, Salvadoran, Dominican, Colombian;White╤For example, German, Irish, English, Italian, Polish, French;\" 7\n",
      "--  women: 5  men: 2  nonbinary: 0  prefer not to answer: 0  entry left blank: 0\n",
      "---- nonbinary women: 0  nonbinary men: 0  marked only as nonbinary: 0\n",
      "------> \"Females\": 5  \"Males\": 2  \"Sex/Gender Unknown or Nor Reported\" 0  \"Total\": 7 \n",
      "\n",
      "--- 10 ---\n",
      "n entries containing \"Hispanic, Latino or Spanish Origin╤For example, Mexican or Mexican American, Puerto Rican, Cuban, Salvadoran, Dominican, Columbian;White╤For example, German, Irish, English, Italian, Polish, French;\" 7\n",
      "--  women: 5  men: 2  nonbinary: 0  prefer not to answer: 0  entry left blank: 0\n",
      "---- nonbinary women: 0  nonbinary men: 0  marked only as nonbinary: 0\n",
      "------> \"Females\": 5  \"Males\": 2  \"Sex/Gender Unknown or Nor Reported\" 0  \"Total\": 7 \n",
      "\n",
      "--- 11 ---\n",
      "n entries containing \"Middle Eastern or North African╤For example, Lebanese, Iranian, Egyptian, Syrian, Moroccan, Algerian;White╤For example, German, Irish, English, Italian, Polish, French;\" 8\n",
      "--  women: 6  men: 2  nonbinary: 0  prefer not to answer: 0  entry left blank: 0\n",
      "---- nonbinary women: 0  nonbinary men: 0  marked only as nonbinary: 0\n",
      "------> \"Females\": 6  \"Males\": 2  \"Sex/Gender Unknown or Nor Reported\" 0  \"Total\": 8 \n",
      "\n",
      "--- 12 ---\n",
      "n entries containing \"White╤For example, German, Irish, English, Italian, Polish, French;Hispanic, Latino or Spanish Origin╤For example, Mexican or Mexican American, Puerto Rican, Cuban, Salvadoran, Dominican, Colombian;\" 1\n",
      "--  women: 1  men: 0  nonbinary: 0  prefer not to answer: 0  entry left blank: 0\n",
      "---- nonbinary women: 0  nonbinary men: 0  marked only as nonbinary: 0\n",
      "------> \"Females\": 1  \"Males\": 0  \"Sex/Gender Unknown or Nor Reported\" 0  \"Total\": 1 \n",
      "\n"
     ]
    }
   ],
   "source": [
    "#get df multiple ethnicity entries\n",
    "for n, multi_entry in enumerate(multiple_ethnicities_list):\n",
    "    multi_ethnicity_index_list = list()\n",
    "    split_multi_string = multi_entry.split(';')\n",
    "    split_multi_string.pop()\n",
    "#    print('---', n, '---', 'str len', len(split_multi_string), split_multi_string)\n",
    "    print('---', n, '---')\n",
    "    getPositionTuple = getIndexes(df_ethnicity, multi_entry)\n",
    "    for i in range(len(getPositionTuple)):\n",
    "        index = getPositionTuple[i][0]\n",
    "        multi_ethnicity_index_list.append(index)\n",
    "        long_string = df_ethnicity[cols['ethnicity']].loc[[index]].to_string()\n",
    "        split_string = re.split(r'\\s{2,}', long_string)\n",
    "#        print('___', split_string[1].split(';'))\n",
    "        string = split_string[1]\n",
    "    df_multi_entry = df_ethnicity.loc[multi_ethnicity_index_list]\n",
    "    print('n entries containing \"{0}\"'.format(multi_entry), len(getPositionTuple))\n",
    "    if 'Hispanic' in single_entry:\n",
    "        printmd('NOTE: contains Hispanic.')\n",
    "    else:\n",
    "        pass\n",
    "    df_multi_entry.to_csv('test_{0}.csv'.format(n))\n",
    "    print_gender_breakdown(df_multi_entry)\n",
    "#        print(string)\n",
    "#        split_on_semicol = string.split(';')\n",
    "#        print(split_on_semicol)\n",
    "\n",
    "#multi_ethnicity_df = df_ethnicity.loc[multi_ethnicity_index_list]\n",
    "#multi_ethnicity_df.to_csv('test.csv')"
   ]
  },
  {
   "cell_type": "code",
   "execution_count": null,
   "metadata": {},
   "outputs": [],
   "source": []
  }
 ],
 "metadata": {
  "kernelspec": {
   "display_name": "Python 3",
   "language": "python",
   "name": "python3"
  },
  "language_info": {
   "codemirror_mode": {
    "name": "ipython",
    "version": 3
   },
   "file_extension": ".py",
   "mimetype": "text/x-python",
   "name": "python",
   "nbconvert_exporter": "python",
   "pygments_lexer": "ipython3",
   "version": "3.7.3"
  }
 },
 "nbformat": 4,
 "nbformat_minor": 2
}
